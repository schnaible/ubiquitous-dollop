{
  "nbformat": 4,
  "nbformat_minor": 0,
  "metadata": {
    "colab": {
      "name": "TokenizationTermFrequency.ipynb",
      "provenance": []
    },
    "kernelspec": {
      "name": "python3",
      "display_name": "Python 3"
    },
    "language_info": {
      "name": "python"
    }
  },
  "cells": [
    {
      "cell_type": "code",
      "source": [
        "# Access google drive so we can use uploaded files\n",
        "from google.colab import drive\n",
        "drive.mount('/content/drive')"
      ],
      "metadata": {
        "colab": {
          "base_uri": "https://localhost:8080/"
        },
        "id": "WRi4hOcGsEkB",
        "outputId": "8edf0481-e597-40a4-ba8c-b6a1cfb6d622"
      },
      "execution_count": null,
      "outputs": [
        {
          "output_type": "stream",
          "name": "stdout",
          "text": [
            "Drive already mounted at /content/drive; to attempt to forcibly remount, call drive.mount(\"/content/drive\", force_remount=True).\n"
          ]
        }
      ]
    },
    {
      "cell_type": "code",
      "source": [
        "import matplotlib.pyplot as plt\n",
        "import nltk\n",
        "from nltk import sent_tokenize\n",
        "from nltk import word_tokenize\n",
        "from nltk.probability import FreqDist\n",
        "from nltk.corpus import stopwords"
      ],
      "metadata": {
        "id": "xIZKEn3Ap5CB"
      },
      "execution_count": null,
      "outputs": []
    },
    {
      "cell_type": "code",
      "source": [
        "# Open the file and read it into a variable\n",
        "text_file = open('/content/example.txt')\n",
        "text = text_file.read()\n",
        "\n",
        "# Print the datatype, text, and length\n",
        "print(type(text),'\\n')\n",
        "print(text,'\\n')\n",
        "print('Text Length:',len(text))"
      ],
      "metadata": {
        "colab": {
          "base_uri": "https://localhost:8080/"
        },
        "id": "HFZjmEbvr1P9",
        "outputId": "d3f5cbbc-720e-4b79-d424-b2fa6e8e28ac"
      },
      "execution_count": null,
      "outputs": [
        {
          "output_type": "stream",
          "name": "stdout",
          "text": [
            "<class 'str'> \n",
            "\n",
            "Once it smiled a silent dell\n",
            "Where the people did not dwell;\n",
            "They had gone unto the wars,\n",
            "Trusting to the mildeyed stars,\n",
            "Nightly, from their azure towers,\n",
            "To keep watch above the flowers,\n",
            "In the midst of which all day\n",
            "The red sunlight lazily lay.\n",
            "Now each visitor shall confess\n",
            "The sad valley's restlessness.\n",
            "Nothing there is motionless\n",
            "Nothing save the airs that brood\n",
            "Over the magic solitude.\n",
            "Ah, by no wind are stirred those trees\n",
            "That palpitate like the chill seas\n",
            "Around the misty Hebrides!\n",
            "Ah, by no wind those clouds are driven\n",
            "That rustle through the unquiet Heaven\n",
            "Uneasily, from morn till even,\n",
            "Over the violets there that lie\n",
            "In myriad types of the human eye\n",
            "Over the lilies there that wave\n",
            "And weep above a nameless grave!\n",
            "They wave: from out their fragrant tops\n",
            "Eternal dews come down in drops.\n",
            "They weep: from off their delicate stems\n",
            "Perennial tears descend in gems. \n",
            "\n",
            "Text Length: 882\n"
          ]
        }
      ]
    },
    {
      "cell_type": "code",
      "source": [
        "sentences = sent_tokenize(text)\n",
        "print(len(sentences))\n",
        "print(sentences)"
      ],
      "metadata": {
        "colab": {
          "base_uri": "https://localhost:8080/"
        },
        "id": "nuOUQlfKsZQW",
        "outputId": "c0e64bdf-ca96-49c0-a767-5dd328999061"
      },
      "execution_count": null,
      "outputs": [
        {
          "output_type": "stream",
          "name": "stdout",
          "text": [
            "7\n",
            "['Once it smiled a silent dell\\nWhere the people did not dwell;\\nThey had gone unto the wars,\\nTrusting to the mildeyed stars,\\nNightly, from their azure towers,\\nTo keep watch above the flowers,\\nIn the midst of which all day\\nThe red sunlight lazily lay.', \"Now each visitor shall confess\\nThe sad valley's restlessness.\", 'Nothing there is motionless\\nNothing save the airs that brood\\nOver the magic solitude.', 'Ah, by no wind are stirred those trees\\nThat palpitate like the chill seas\\nAround the misty Hebrides!', 'Ah, by no wind those clouds are driven\\nThat rustle through the unquiet Heaven\\nUneasily, from morn till even,\\nOver the violets there that lie\\nIn myriad types of the human eye\\nOver the lilies there that wave\\nAnd weep above a nameless grave!', 'They wave: from out their fragrant tops\\nEternal dews come down in drops.', 'They weep: from off their delicate stems\\nPerennial tears descend in gems.']\n"
          ]
        }
      ]
    },
    {
      "cell_type": "code",
      "source": [
        "words = word_tokenize(text)\n",
        "print(len(words))\n",
        "print(words)"
      ],
      "metadata": {
        "colab": {
          "base_uri": "https://localhost:8080/"
        },
        "id": "v_eCD10btmYc",
        "outputId": "6c65d391-d3bc-4f10-cbcb-3f1fe008385b"
      },
      "execution_count": null,
      "outputs": [
        {
          "output_type": "stream",
          "name": "stdout",
          "text": [
            "176\n",
            "['Once', 'it', 'smiled', 'a', 'silent', 'dell', 'Where', 'the', 'people', 'did', 'not', 'dwell', ';', 'They', 'had', 'gone', 'unto', 'the', 'wars', ',', 'Trusting', 'to', 'the', 'mildeyed', 'stars', ',', 'Nightly', ',', 'from', 'their', 'azure', 'towers', ',', 'To', 'keep', 'watch', 'above', 'the', 'flowers', ',', 'In', 'the', 'midst', 'of', 'which', 'all', 'day', 'The', 'red', 'sunlight', 'lazily', 'lay', '.', 'Now', 'each', 'visitor', 'shall', 'confess', 'The', 'sad', 'valley', \"'s\", 'restlessness', '.', 'Nothing', 'there', 'is', 'motionless', 'Nothing', 'save', 'the', 'airs', 'that', 'brood', 'Over', 'the', 'magic', 'solitude', '.', 'Ah', ',', 'by', 'no', 'wind', 'are', 'stirred', 'those', 'trees', 'That', 'palpitate', 'like', 'the', 'chill', 'seas', 'Around', 'the', 'misty', 'Hebrides', '!', 'Ah', ',', 'by', 'no', 'wind', 'those', 'clouds', 'are', 'driven', 'That', 'rustle', 'through', 'the', 'unquiet', 'Heaven', 'Uneasily', ',', 'from', 'morn', 'till', 'even', ',', 'Over', 'the', 'violets', 'there', 'that', 'lie', 'In', 'myriad', 'types', 'of', 'the', 'human', 'eye', 'Over', 'the', 'lilies', 'there', 'that', 'wave', 'And', 'weep', 'above', 'a', 'nameless', 'grave', '!', 'They', 'wave', ':', 'from', 'out', 'their', 'fragrant', 'tops', 'Eternal', 'dews', 'come', 'down', 'in', 'drops', '.', 'They', 'weep', ':', 'from', 'off', 'their', 'delicate', 'stems', 'Perennial', 'tears', 'descend', 'in', 'gems', '.']\n"
          ]
        }
      ]
    },
    {
      "cell_type": "code",
      "source": [
        "fdlist = FreqDist(words)\n",
        "fdlist.most_common(10)"
      ],
      "metadata": {
        "colab": {
          "base_uri": "https://localhost:8080/"
        },
        "id": "scVxwtPBtymA",
        "outputId": "b6500c2e-147e-4d0b-dd65-d67fcb958f94"
      },
      "execution_count": null,
      "outputs": [
        {
          "output_type": "execute_result",
          "data": {
            "text/plain": [
              "[('the', 13),\n",
              " (',', 9),\n",
              " ('.', 5),\n",
              " ('from', 4),\n",
              " ('They', 3),\n",
              " ('their', 3),\n",
              " ('there', 3),\n",
              " ('that', 3),\n",
              " ('Over', 3),\n",
              " ('a', 2)]"
            ]
          },
          "metadata": {},
          "execution_count": 92
        }
      ]
    },
    {
      "cell_type": "code",
      "source": [
        "fdlist.plot(10)"
      ],
      "metadata": {
        "colab": {
          "base_uri": "https://localhost:8080/",
          "height": 296
        },
        "id": "AWz9Q0L5uIjM",
        "outputId": "bda71b31-b9b7-4a69-cf23-2cf6dc445e28"
      },
      "execution_count": null,
      "outputs": [
        {
          "output_type": "display_data",
          "data": {
            "text/plain": [
              "<Figure size 432x288 with 1 Axes>"
            ],
            "image/png": "[encoded data removed]"
          },
          "metadata": {
            "needs_background": "light"
          }
        }
      ]
    },
    {
      "cell_type": "code",
      "source": [
        "# Remove the punctuation from the list\n",
        "no_punc = []\n",
        "\n",
        "for word in fdlist:\n",
        "  if word.isalpha():\n",
        "    no_punc.append(word)"
      ],
      "metadata": {
        "id": "MkJKDIfkuYD7"
      },
      "execution_count": null,
      "outputs": []
    },
    {
      "cell_type": "code",
      "source": [
        "fdlist = FreqDist(no_punc)\n",
        "fdlist.most_common(10)"
      ],
      "metadata": {
        "colab": {
          "base_uri": "https://localhost:8080/"
        },
        "id": "OTi0vT7Yvijb",
        "outputId": "19283cf0-5279-4ebe-881b-9c5e7abfb2b3"
      },
      "execution_count": null,
      "outputs": [
        {
          "output_type": "execute_result",
          "data": {
            "text/plain": [
              "[('Once', 1),\n",
              " ('it', 1),\n",
              " ('smiled', 1),\n",
              " ('a', 1),\n",
              " ('silent', 1),\n",
              " ('dell', 1),\n",
              " ('Where', 1),\n",
              " ('the', 1),\n",
              " ('people', 1),\n",
              " ('did', 1)]"
            ]
          },
          "metadata": {},
          "execution_count": 95
        }
      ]
    },
    {
      "cell_type": "code",
      "source": [
        "fdlist.plot(10)"
      ],
      "metadata": {
        "colab": {
          "base_uri": "https://localhost:8080/",
          "height": 303
        },
        "id": "SAlbeshvvv8G",
        "outputId": "8603654b-6953-4499-ccd5-f6032c693526"
      },
      "execution_count": null,
      "outputs": [
        {
          "output_type": "display_data",
          "data": {
            "text/plain": [
              "<Figure size 432x288 with 1 Axes>"
            ],
            "image/png": "[encoded data removed]"
          },
          "metadata": {
            "needs_background": "light"
          }
        }
      ]
    },
    {
      "cell_type": "code",
      "source": [
        "stopwords = stopwords.words(\"english\")"
      ],
      "metadata": {
        "id": "JODnsuw6wO-C"
      },
      "execution_count": null,
      "outputs": []
    },
    {
      "cell_type": "code",
      "source": [
        "clean_words = []\n",
        "for word in no_punc:\n",
        "  if word not in stopwords:\n",
        "    clean_words.append(word)"
      ],
      "metadata": {
        "id": "Istu9KVSwTXP"
      },
      "execution_count": null,
      "outputs": []
    },
    {
      "cell_type": "code",
      "source": [
        "fdlist = FreqDist(clean_words)\n",
        "fdlist.most_common(10)"
      ],
      "metadata": {
        "colab": {
          "base_uri": "https://localhost:8080/"
        },
        "id": "_qqI8TRcwdNV",
        "outputId": "6edb8054-e0e9-43b1-84a7-dec8981812ae"
      },
      "execution_count": null,
      "outputs": [
        {
          "output_type": "execute_result",
          "data": {
            "text/plain": [
              "[('Once', 1),\n",
              " ('smiled', 1),\n",
              " ('silent', 1),\n",
              " ('dell', 1),\n",
              " ('Where', 1),\n",
              " ('people', 1),\n",
              " ('dwell', 1),\n",
              " ('They', 1),\n",
              " ('gone', 1),\n",
              " ('unto', 1)]"
            ]
          },
          "metadata": {},
          "execution_count": 100
        }
      ]
    },
    {
      "cell_type": "code",
      "source": [
        "fdlist.plot(10)"
      ],
      "metadata": {
        "colab": {
          "base_uri": "https://localhost:8080/",
          "height": 303
        },
        "id": "R0piembOw89K",
        "outputId": "18474ede-5f6e-454e-fd53-732a824c94e4"
      },
      "execution_count": null,
      "outputs": [
        {
          "output_type": "display_data",
          "data": {
            "text/plain": [
              "<Figure size 432x288 with 1 Axes>"
            ],
            "image/png": "[encoded data removed]"
          },
          "metadata": {
            "needs_background": "light"
          }
        }
      ]
    },
    {
      "cell_type": "code",
      "source": [
        ""
      ],
      "metadata": {
        "id": "KS3-oCFgw99q"
      },
      "execution_count": null,
      "outputs": []
    }
  ]
}